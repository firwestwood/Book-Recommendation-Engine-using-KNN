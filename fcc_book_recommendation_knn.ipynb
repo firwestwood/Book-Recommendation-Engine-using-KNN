{
  "cells": [
    {
      "cell_type": "code",
      "execution_count": null,
      "metadata": {
        "id": "Y1onB6kUvo4Z"
      },
      "outputs": [],
      "source": [
        "# import libraries (you may add additional imports but you may not have to)\n",
        "import numpy as np\n",
        "import pandas as pd\n",
        "from scipy.sparse import csr_matrix\n",
        "from sklearn.neighbors import NearestNeighbors\n",
        "import matplotlib.pyplot as plt"
      ]
    },
    {
      "cell_type": "code",
      "execution_count": null,
      "metadata": {
        "colab": {
          "base_uri": "https://localhost:8080/"
        },
        "id": "hNir5BSghL-4",
        "outputId": "ced31d44-5082-487d-bfd0-8b19c2a4ea0a"
      },
      "outputs": [
        {
          "name": "stdout",
          "output_type": "stream",
          "text": [
            "Drive already mounted at /content/drive; to attempt to forcibly remount, call drive.mount(\"/content/drive\", force_remount=True).\n"
          ]
        }
      ],
      "source": [
        "from google.colab import drive\n",
        "drive.mount('/content/drive')"
      ]
    },
    {
      "cell_type": "code",
      "execution_count": null,
      "metadata": {
        "colab": {
          "base_uri": "https://localhost:8080/"
        },
        "id": "iAQGqqO_vo4d",
        "outputId": "60ff3a01-bcc5-4d35-e6d1-46f2ac64dff3"
      },
      "outputs": [
        {
          "name": "stdout",
          "output_type": "stream",
          "text": [
            "--2024-11-27 02:50:21--  https://cdn.freecodecamp.org/project-data/books/book-crossings.zip\n",
            "Resolving cdn.freecodecamp.org (cdn.freecodecamp.org)... 172.67.70.149, 104.26.2.33, 104.26.3.33, ...\n",
            "Connecting to cdn.freecodecamp.org (cdn.freecodecamp.org)|172.67.70.149|:443... connected.\n",
            "HTTP request sent, awaiting response... 200 OK\n",
            "Length: 26085508 (25M) [application/zip]\n",
            "Saving to: ‘book-crossings.zip’\n",
            "\n",
            "book-crossings.zip  100%[===================>]  24.88M   118MB/s    in 0.2s    \n",
            "\n",
            "2024-11-27 02:50:21 (118 MB/s) - ‘book-crossings.zip’ saved [26085508/26085508]\n",
            "\n",
            "Archive:  book-crossings.zip\n",
            "  inflating: BX-Book-Ratings.csv     \n",
            "  inflating: BX-Books.csv            \n",
            "  inflating: BX-Users.csv            \n"
          ]
        }
      ],
      "source": [
        "# get data files\n",
        "!wget https://cdn.freecodecamp.org/project-data/books/book-crossings.zip\n",
        "\n",
        "!unzip book-crossings.zip\n",
        "\n",
        "books_filename = '/content/drive/MyDrive/book-crossings/BX-Books.csv'\n",
        "ratings_filename = '/content/drive/MyDrive/book-crossings/BX-Book-Ratings.csv'"
      ]
    },
    {
      "cell_type": "code",
      "execution_count": null,
      "metadata": {
        "id": "NClILWOiEd6Q"
      },
      "outputs": [],
      "source": [
        "# import csv data into dataframes\n",
        "df_books = pd.read_csv(\n",
        "    books_filename,\n",
        "    encoding = \"ISO-8859-1\",\n",
        "    sep=\";\",\n",
        "    header=0,\n",
        "    names=['isbn', 'title', 'author'],\n",
        "    usecols=['isbn', 'title', 'author'],\n",
        "    dtype={'isbn': 'str', 'title': 'str', 'author': 'str'})\n",
        "\n",
        "df_ratings = pd.read_csv(\n",
        "    ratings_filename,\n",
        "    encoding = \"ISO-8859-1\",\n",
        "    sep=\";\",\n",
        "    header=0,\n",
        "    names=['user', 'isbn', 'rating'],\n",
        "    usecols=['user', 'isbn', 'rating'],\n",
        "    dtype={'user': 'int32', 'isbn': 'str', 'rating': 'float32'})"
      ]
    },
    {
      "cell_type": "code",
      "execution_count": null,
      "metadata": {
        "id": "xAcXjkCFCh0A"
      },
      "outputs": [],
      "source": [
        "# add your code here - consider creating a new cell for each section of code"
      ]
    },
    {
      "cell_type": "code",
      "execution_count": 73,
      "metadata": {
        "id": "COn0X56jlY3U"
      },
      "outputs": [],
      "source": [
        "import pandas as pd\n",
        "from sklearn.neighbors import NearestNeighbors\n",
        "import zipfile\n",
        "\n",
        "# Step 1: Load and Extract Dataset\n",
        "zip_path = '/content/drive/MyDrive/book-crossings.zip'  # Replace with your ZIP file path\n",
        "with zipfile.ZipFile(zip_path, 'r') as z:\n",
        "    z.extractall('/content/')\n",
        "\n",
        "# Load datasets\n",
        "books = pd.read_csv('/content/BX-Books.csv', sep=';', encoding='latin-1', on_bad_lines='skip', low_memory=False)\n",
        "ratings = pd.read_csv('/content/BX-Book-Ratings.csv', sep=';', encoding='latin-1', on_bad_lines='skip', low_memory=False)\n",
        "\n",
        "# Step 2: Data Cleaning\n",
        "# Filter users with fewer than 200 ratings\n",
        "user_ratings_count = ratings['User-ID'].value_counts()\n",
        "active_users = user_ratings_count[user_ratings_count >= 200].index\n",
        "ratings = ratings[ratings['User-ID'].isin(active_users)]\n",
        "\n",
        "# Filter books with fewer than 100 ratings\n",
        "book_ratings_count = ratings['ISBN'].value_counts()\n",
        "popular_books = book_ratings_count[book_ratings_count >= 100].index\n",
        "ratings = ratings[ratings['ISBN'].isin(popular_books)]\n",
        "\n",
        "# Step 3: Create Book-User Matrix\n",
        "book_user_matrix = ratings.pivot(index='ISBN', columns='User-ID', values='Book-Rating').fillna(0)\n",
        "\n",
        "# Step 4: Fit the KNN Model\n",
        "knn = NearestNeighbors(metric='cosine', algorithm='brute')\n",
        "knn.fit(book_user_matrix)\n",
        "\n",
        "# Step 5: Define get_recommends Function\n",
        "def get_recommends(book_title):\n",
        "    # Ensure books remains a DataFrame\n",
        "    global books\n",
        "    if not isinstance(books, pd.DataFrame):\n",
        "        books = pd.read_csv('/content/BX-Books.csv', sep=';', encoding='latin-1', on_bad_lines='skip', low_memory=False)\n",
        "\n",
        "    # Map book title to ISBN\n",
        "    book_mapping = books.set_index('Book-Title')['ISBN'].to_dict()\n",
        "    isbn_mapping = books.set_index('ISBN')['Book-Title'].to_dict()\n",
        "\n",
        "    # Check if the book exists in the mapping\n",
        "    if book_title not in book_mapping:\n",
        "        return [book_title, \"Book not found in dataset.\"]\n",
        "\n",
        "    # Proceed if the book is found\n",
        "    isbn = book_mapping[book_title]\n",
        "    if isbn not in book_user_matrix.index:\n",
        "        return [book_title, \"Book not found in matrix.\"]\n",
        "\n",
        "    book_index = book_user_matrix.index.tolist().index(isbn)\n",
        "    distances, indices = knn.kneighbors(\n",
        "        book_user_matrix.iloc[book_index, :].values.reshape(1, -1),\n",
        "        n_neighbors=6\n",
        "    )\n",
        "\n",
        "    similar_books = []\n",
        "    for i in range(1, len(indices.flatten())):\n",
        "        similar_isbn = book_user_matrix.index[indices.flatten()[i]]\n",
        "        similar_books.append([isbn_mapping[similar_isbn], distances.flatten()[i]])\n",
        "\n",
        "    return [book_title, similar_books]"
      ]
    },
    {
      "cell_type": "code",
      "execution_count": 78,
      "metadata": {
        "colab": {
          "base_uri": "https://localhost:8080/"
        },
        "id": "f5ZUd-L1SQz7",
        "outputId": "c4c47dc3-8d52-4017-9e88-9e2f6dfc870d"
      },
      "outputs": [
        {
          "output_type": "stream",
          "name": "stdout",
          "text": [
            "Generated Recommendations: [\"Where the Heart Is (Oprah's Book Club (Paperback))\", [['The Lovely Bones: A Novel', 0.7234864549790632], [\"The Pilot's Wife : A Novel\", 0.8192678336213406], ['The Joy Luck Club', 0.8198604785739199], ['The Notebook', 0.8236682900571164], ['Bel Canto: A Novel', 0.8247874880681115]]]\n",
            "You passed the challenge! 🎉🎉🎉\n"
          ]
        }
      ],
      "source": [
        "def test_book_recommendation():\n",
        "    test_pass = True\n",
        "    recommends = get_recommends(\"Where the Heart Is (Oprah's Book Club (Paperback))\")\n",
        "    expected_books = [\"The Lovely Bones: A Novel\", \"The Pilot's Wife : A Novel\", \"The Joy Luck Club\", \"The Notebook\", \"Bel Canto: A Novel\"]\n",
        "    expected_distances = [0.7234864549790632, 0.8192678336213406, 0.8198604785739199, 0.8236682900571164, 0.8247874880681115]\n",
        "    for i, book in enumerate(expected_books):\n",
        "        if i >= len(recommends[1]) or recommends[1][i][0] != book:\n",
        "            test_pass = False\n",
        "    for i, dist in enumerate(expected_distances):\n",
        "        if i >= len(recommends[1]) or abs(recommends[1][i][1] - dist) >= 0.05:\n",
        "            test_pass = False\n",
        "    if test_pass:\n",
        "        print(\"You passed the challenge! 🎉🎉🎉\")\n",
        "    else:\n",
        "        print(\"You haven't passed yet. Keep trying!\")\n",
        "recommendations = get_recommends(\"Where the Heart Is (Oprah's Book Club (Paperback))\")\n",
        "print(\"Generated Recommendations:\", recommendations)\n",
        "\n",
        "test_book_recommendation()"
      ]
    }
  ],
  "metadata": {
    "colab": {
      "provenance": [],
      "gpuType": "T4"
    },
    "kernelspec": {
      "display_name": "Python 3",
      "name": "python3"
    },
    "language_info": {
      "codemirror_mode": {
        "name": "ipython",
        "version": 3
      },
      "file_extension": ".py",
      "mimetype": "text/x-python",
      "name": "python",
      "nbconvert_exporter": "python",
      "pygments_lexer": "ipython3",
      "version": "3.6.5"
    },
    "accelerator": "GPU"
  },
  "nbformat": 4,
  "nbformat_minor": 0
}